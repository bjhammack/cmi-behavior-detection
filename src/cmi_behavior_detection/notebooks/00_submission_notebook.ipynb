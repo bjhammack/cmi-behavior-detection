{
 "cells": [
  {
   "cell_type": "code",
   "execution_count": null,
   "id": "890794fd",
   "metadata": {},
   "outputs": [],
   "source": [
    "import os\n",
    "import pandas as pd\n",
    "import kaggle_evaluation.cmi_inference_server"
   ]
  },
  {
   "cell_type": "code",
   "execution_count": null,
   "id": "a0711d8c",
   "metadata": {},
   "outputs": [],
   "source": [
    "def predict(sequence: pd.DataFrame, demographics: pd.DataFrame) -> str:\n",
    "    # Replace this function with your inference code.\n",
    "    # You can return either a Pandas or Polars dataframe, though Polars is recommended.\n",
    "    # Each prediction (except the very first) must be returned within 30 minutes of the b"
   ]
  },
  {
   "cell_type": "code",
   "execution_count": null,
   "id": "67942f6c",
   "metadata": {},
   "outputs": [],
   "source": [
    "inference_server = kaggle_evaluation.cmi_inference_server.CMIInferenceServer(predict)\n",
    "\n",
    "if os.getenv('KAGGLE_IS_COMPETITION_RERUN'):\n",
    "    inference_server.serve()\n",
    "else:\n",
    "    inference_server.run_local_gateway(\n",
    "        data_paths=(\n",
    "            '/kaggle/input/cmi-detect-behavior-with-sensor-data/test.csv',\n",
    "            '/kaggle/input/cmi-detect-behavior-with-sensor-data/test_demographics.csv',\n",
    "        )\n",
    "    )"
   ]
  },
  {
   "cell_type": "code",
   "execution_count": null,
   "id": "8d2fcc04",
   "metadata": {},
   "outputs": [],
   "source": []
  }
 ],
 "metadata": {
  "language_info": {
   "name": "python"
  }
 },
 "nbformat": 4,
 "nbformat_minor": 5
}
